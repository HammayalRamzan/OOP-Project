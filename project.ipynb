{
 "cells": [
  {
   "cell_type": "markdown",
   "metadata": {
    "id": "mGtnTGGcs55e"
   },
   "source": []
  },
  {
   "cell_type": "code",
   "execution_count": null,
   "metadata": {
    "colab": {
     "base_uri": "https://localhost:8080/"
    },
    "executionInfo": {
     "elapsed": 12153,
     "status": "ok",
     "timestamp": 1732299221531,
     "user": {
      "displayName": "Hammayal Ramzan",
      "userId": "06275987590590388131"
     },
     "user_tz": -300
    },
    "id": "Pscb93mSYo4i",
    "outputId": "95282797-a7f4-4683-fc61-3c43d26a8708"
   },
   "outputs": [
    {
     "name": "stdout",
     "output_type": "stream",
     "text": [
      "Enter Name: ujala\n",
      "Enter Marks: 77\n",
      "C\n",
      "Enter passing_marks: 55\n",
      "Passed \n",
      "None\n"
     ]
    }
   ],
   "source": [
    "class Student:\n",
    "  def __init__(self,Name,Marks,grades):\n",
    "    self.Name = Name\n",
    "    self.Marks = Marks\n",
    "    self.grades = grades\n",
    "\n",
    "  def calculate_average(self,names,marks):\n",
    "    Name:str=(input(\"Enter Name: \"))\n",
    "    Marks:int=(input(\"Enter Marks: \"))\n",
    "    Marks:int=85\n",
    "    if Marks >= 90:\n",
    "        return \"A\"\n",
    "    elif 70 <= Marks > 90:\n",
    "        return \"B\"\n",
    "    elif 50 <= Marks > 70:\n",
    "        return \"C\"\n",
    "    else:\n",
    "        return \"D\"\n",
    "\n",
    "  def passing_marks(self):\n",
    "    passing_marks=50\n",
    "    marks=input(\"Enter passing_marks: \")\n",
    "    if passing_marks >= 40:\n",
    "      print(\"Passed \")\n",
    "    elif passing_marks < 40:\n",
    "      print(\"Fail \")\n",
    "    else:\n",
    "      \"return\"\n",
    "names=[\"Ujala,Minahil,Iqra,Tooba,Ahba\"]\n",
    "marks=[\"90,83,66,54,33\"]\n",
    "S1 =Student(names,marks,[])\n",
    "print(S1.calculate_average(\"ujala,minahil,tooba,iqra,ahba\",\"90,88,54,33\"))\n",
    "print(S1.passing_marks())"
   ]
  },
  {
   "cell_type": "code",
   "execution_count": 9,
   "metadata": {
    "colab": {
     "base_uri": "https://localhost:8080/"
    },
    "executionInfo": {
     "elapsed": 406,
     "status": "ok",
     "timestamp": 1732385513382,
     "user": {
      "displayName": "Hammayal Ramzan",
      "userId": "06275987590590388131"
     },
     "user_tz": -300
    },
    "id": "BYR_iFORHdrL",
    "outputId": "f8ed7db1-280c-4481-cd39-5c7506fad99a"
   },
   "outputs": [
    {
     "name": "stdout",
     "output_type": "stream",
     "text": [
      "New added students are: Rida,Muzna,Fizan,Rahij\n",
      "Great journey,Keep it up \n",
      "None\n",
      "Students need improvement\n",
      "None\n"
     ]
    }
   ],
   "source": [
    "class PerformanceTracker:\n",
    "  def __init__(self,students):\n",
    "    self.students = students\n",
    "\n",
    "  def add_student(self,new_students):\n",
    "    new_students:str=(\"Rida,Muzna,Fizan,Rahij\")\n",
    "    if new_students not in self.students:\n",
    "      self.students.append(new_students)\n",
    "      print(f\"add_student: {new_students}\")\n",
    "    else:\n",
    "      print(f\"Student {new_students} already in list\")\n",
    "\n",
    "  def class_average(self):\n",
    "    students_strength= 50\n",
    "    max_students=35\n",
    "    mini_students=15\n",
    "    if students_strength >= max_students:\n",
    "      print(\"Great journey,Keep it up \")\n",
    "    elif students_strength < mini_students:\n",
    "      print(\"Try harder next time\")\n",
    "    else:\n",
    "         \"break\"\n",
    "\n",
    "  def display_performance(self,class_average,passing_marks):\n",
    "    class_average = 45\n",
    "    passing_marks = 50\n",
    "    if class_average >= passing_marks:\n",
    "      print(\"Students are passed,congrats!\")\n",
    "    else:\n",
    "      print(\"Students need improvement\")\n",
    "\n",
    "P1 = PerformanceTracker(\"Rida,Muzna,Fizan,Rahij\")\n",
    "print(\"New added students are: Rida,Muzna,Fizan,Rahij\")\n",
    "print(P1.class_average())\n",
    "print(P1.display_performance(\"45\",\"50\"))"
   ]
  },
  {
   "cell_type": "code",
   "execution_count": null,
   "metadata": {
    "colab": {
     "base_uri": "https://localhost:8080/"
    },
    "executionInfo": {
     "elapsed": 132504,
     "status": "ok",
     "timestamp": 1732301947503,
     "user": {
      "displayName": "Hammayal Ramzan",
      "userId": "06275987590590388131"
     },
     "user_tz": -300
    },
    "id": "b25CgJtsvaBo",
    "outputId": "217bedcd-b71d-4d42-bf6a-9da9291d123e"
   },
   "outputs": [
    {
     "name": "stdout",
     "output_type": "stream",
     "text": [
      "Welcome to the Student Performance Tracker!\n",
      "\n",
      "Options:\n",
      "1. Add Student\n",
      "2. Class Average\n",
      "3. Display Performance\n",
      "4. Exit\n",
      "Choose an option (1-4): 1\n",
      "Ujala,Minahil,Iqra,Tooba,Ahba adding these students \n",
      "\n",
      "Options:\n",
      "1. Add Student\n",
      "2. Class Average\n",
      "3. Display Performance\n",
      "4. Exit\n",
      "Choose an option (1-4): 4\n",
      "Exiting the program. Goodbye!\n"
     ]
    }
   ],
   "source": [
    "def student_performance_tracker():\n",
    "    print(\"Welcome to the Student Performance Tracker!\")\n",
    "\n",
    "    while True:\n",
    "        print(\"\\nOptions:\")\n",
    "        print(\"1. Add Student\")\n",
    "        print(\"2. Class Average\")\n",
    "        print(\"3. Display Performance\")\n",
    "        print(\"4. Exit\")\n",
    "\n",
    "        choice = input(\"Choose an option (1-4): \")\n",
    "\n",
    "        if choice == \"1\":\n",
    "            print(\"Ujala,Minahil,Iqra,Tooba,Ahba adding these students \")\n",
    "        elif choice == \"2\":\n",
    "            print(\"Calculating class average...\")\n",
    "        elif choice == \"3\":\n",
    "            print(\"Displaying student performance...\")\n",
    "        elif choice == \"4\":\n",
    "            print(\"Exiting the program. Goodbye!\")\n",
    "            break\n",
    "        else:\n",
    "            print(\"Invalid choice. Please enter a number between 1 and 4.\")\n",
    "\n",
    "student_performance_tracker()\n"
   ]
  }
 ],
 "metadata": {
  "colab": {
   "authorship_tag": "ABX9TyNhV0X/iswWCOXS9LPDnJRY",
   "provenance": []
  },
  "kernelspec": {
   "display_name": "Python 3",
   "name": "python3"
  },
  "language_info": {
   "name": "python"
  }
 },
 "nbformat": 4,
 "nbformat_minor": 0
}
